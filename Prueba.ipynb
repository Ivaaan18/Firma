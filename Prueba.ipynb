{
 "cells": [
  {
   "cell_type": "code",
   "execution_count": 1,
   "id": "e5ebbb9a",
   "metadata": {},
   "outputs": [],
   "source": [
    "import os\n",
    "import pathlib\n",
    "import shutil\n",
    "from distutils.dir_util import copy_tree"
   ]
  },
  {
   "cell_type": "code",
   "execution_count": 2,
   "id": "78084b96",
   "metadata": {},
   "outputs": [],
   "source": [
    "ruta_aplicativo = pathlib.Path().absolute()\n",
    "ruta_aplicativo = str(ruta_aplicativo)"
   ]
  },
  {
   "cell_type": "code",
   "execution_count": 3,
   "id": "543519d3",
   "metadata": {},
   "outputs": [],
   "source": [
    "class color:\n",
    "   PURPLE = '\\033[95m'\n",
    "   CYAN = '\\033[96m'\n",
    "   DARKCYAN = '\\033[36m'\n",
    "   BLUE = '\\033[94m'\n",
    "   GREEN = '\\033[92m'\n",
    "   YELLOW = '\\033[93m'\n",
    "   RED = '\\033[91m'\n",
    "   BOLD = '\\033[1m'\n",
    "   UNDERLINE = '\\033[4m'\n",
    "   END = '\\033[0m'\n",
    "\n",
    "def printear_usuarios(pc, c=r'\\c$\\Users'):\n",
    "    \n",
    "    os.chdir(r'\\\\' + pc + c)\n",
    "    \n",
    "    users=os.listdir() #Lista de los usuarios logados en pc\n",
    "\n",
    "    start_letter1 = ('a1')\n",
    "    start_letter2 = ('a2')\n",
    "    start_letter3 = ('A1')\n",
    "    start_letter4 = ('A2')\n",
    "\n",
    "    with_s1 = [x for x in users if x.startswith(start_letter1)] \n",
    "    with_s2 = [x for x in users if x.startswith(start_letter2)] \n",
    "    with_s3 = [x for x in users if x.startswith(start_letter3)] \n",
    "    with_s4 = [x for x in users if x.startswith(start_letter4)] \n",
    "\n",
    "    usuarios_pc = with_s1 + with_s2 + with_s3 + with_s4\n",
    "    \n",
    "    \n",
    "    return(usuarios_pc)\n",
    "\n",
    "def carpeta_local(user_local='a202781', c_local = r'c:\\Users', ruta_local='Firmas_compis\\Firmas_Ivan'):\n",
    "\n",
    "    #os.chdir(c_local + \"\\\\\" + user_local + \"\\\\\"  + ruta_local)\n",
    "\n",
    "    firma_compis = os.listdir(c_local + \"\\\\\" + user_local + \"\\\\\"  + ruta_local)  \n",
    "    \n",
    "    return(firma_compis, user_local, c_local, ruta_local)"
   ]
  },
  {
   "cell_type": "code",
   "execution_count": 11,
   "id": "ab3011ae",
   "metadata": {},
   "outputs": [
    {
     "name": "stdout",
     "output_type": "stream",
     "text": [
      "\n",
      "No se puede acceder al pc \u001b[1mpcs0444\u001b[0m está desconectado\n"
     ]
    }
   ],
   "source": [
    "pcs = ['pcs0424'\n",
    "       #,'pcs0346', 'pcs0347', 'pcs0348'\n",
    "      ]\n",
    "\n",
    "c = r'\\c$\\Users'\n",
    "pc_desconectados = []\n",
    "usuarios_fallados = []  \n",
    "#contador = 0\n",
    "\n",
    "ruta_archivos_inicio = (ruta_aplicativo + '\\\\' + 'prueba_aplicativo')\n",
    "\n",
    "for pc in pcs: #Este bucle itera la lista de pcs \n",
    "    \n",
    "    try: #Control de errores pc\n",
    "        #1.- Si tenemos los usuarios nos podemos saltar esta parte.\n",
    "        \n",
    "        usuarios_pc = printear_usuarios(pc, c)\n",
    "        print('\\n')\n",
    "        print(color.BOLD + pc + color.END)\n",
    "        #print(usuarios_pc)\n",
    "        #print(len(usuarios_pc))\n",
    "\n",
    "        for usuario in usuarios_pc: #Dentro de cada pc iteramos en los usuarios.\n",
    "            if usuario in os.listdir(ruta_archivos_inicio): \n",
    "                print(usuario)\n",
    "                try: #Control de errores de usuarios\n",
    "                    ruta = '\\AppData\\Roaming\\Microsoft'\n",
    "                    directorio_microsoft = r'\\\\' + pc + c + \"\\\\\" + usuario + ruta\n",
    "\n",
    "                    #DIRECTORIO_ORIGEN = ruta_archivos_inicio + '\\\\' + usuario\n",
    "                    \n",
    "                    DIRECTORIO_ORIGEN = r'C:\\\\Users\\\\adm-a202781\\\\firma\\\\biblioteca'\n",
    "                    DIRECTORIO_DESTINO = directorio_microsoft\n",
    "                    \n",
    "                    \n",
    "                    if 'Firmas' in os.listdir(directorio_microsoft):\n",
    "                        #print(\"eliminando carpeta antigua: \" + directorio_microsoft + \"\\\\\" + \"Firmas\")\n",
    "                        #shutil.rmtree(directorio_microsoft + \"\\\\\" +\"Firmas\")\n",
    "                        #print(\"creando carpeta nueva: \" + directorio_microsoft + \"\\\\\" + \"Firmas\")\n",
    "                        #os.mkdir(directorio_microsoft + \"\\\\\" + \"Firmas\")\n",
    "                        print(\"Copiando... del directorio: \" + DIRECTORIO_ORIGEN + ' al directorio: ' + DIRECTORIO_DESTINO + \"\\\\\" + \"Firmas\")\n",
    "                        copy_tree(DIRECTORIO_ORIGEN, DIRECTORIO_DESTINO + \"\\\\\" + \"Firmas\")\n",
    "                        print(\"Copiado\", \"\\n\")\n",
    "\n",
    "\n",
    "                    else:\n",
    "                        print(\"creando carpeta nueva en: \" + directorio_microsoft + \"\\\\\" + \"Firmas\")\n",
    "                        os.mkdir(directorio_microsoft + \"\\\\\" + \"Firmas\")\n",
    "                        print(\"Copiando... del directorio: \" + DIRECTORIO_ORIGEN + ' al directorio: ' + DIRECTORIO_DESTINO + \"\\\\\" + \"Firmas\")\n",
    "                        copy_tree(DIRECTORIO_ORIGEN, DIRECTORIO_DESTINO + \"\\\\\" + \"Firmas\")\n",
    "                        print(\"Copiado\")\n",
    "                            \n",
    "                except:\n",
    "                    print(\"try esta fallando\")\n",
    "                #contador +=1                               \n",
    "            else:\n",
    "                pass\n",
    "    except: #Con el primer for itereamos en los pcs, realizamos este control de errores para evitar perder tiempo a la hora de saber que no tenemos conexion al pc\n",
    "        print('\\n' + \"No se puede acceder al pc \"+ color.BOLD + pc + color.END + \" está desconectado\")\n",
    "        pc_desconectados.append(pc)"
   ]
  },
  {
   "cell_type": "code",
   "execution_count": null,
   "id": "1f2da2e6",
   "metadata": {},
   "outputs": [],
   "source": []
  },
  {
   "cell_type": "code",
   "execution_count": null,
   "id": "f22638c8",
   "metadata": {},
   "outputs": [],
   "source": []
  },
  {
   "cell_type": "code",
   "execution_count": null,
   "id": "a182b361",
   "metadata": {},
   "outputs": [],
   "source": [
    "DIRECTORIO_ORIGEN = r'C:\\\\Users\\\\adm-a202781\\\\firma\\\\biblioteca'\n",
    "DIRECTORIO_DESTINO = r'C:\\\\Users\\\\adm-a202781\\\\destino'\n",
    "\n",
    "print(\"Copiando...\")\n",
    "copy_tree(DIRECTORIO_ORIGEN, DIRECTORIO_DESTINO)\n",
    "print(\"Copiado\")\n"
   ]
  }
 ],
 "metadata": {
  "kernelspec": {
   "display_name": "Python 3 (ipykernel)",
   "language": "python",
   "name": "python3"
  },
  "language_info": {
   "codemirror_mode": {
    "name": "ipython",
    "version": 3
   },
   "file_extension": ".py",
   "mimetype": "text/x-python",
   "name": "python",
   "nbconvert_exporter": "python",
   "pygments_lexer": "ipython3",
   "version": "3.7.5"
  }
 },
 "nbformat": 4,
 "nbformat_minor": 5
}
