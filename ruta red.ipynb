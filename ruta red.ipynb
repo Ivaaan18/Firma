{
 "cells": [
  {
   "cell_type": "code",
   "execution_count": 9,
   "id": "73f0f671",
   "metadata": {},
   "outputs": [],
   "source": [
    "import os\n",
    "import pathlib\n",
    "import shutil\n",
    "from distutils.dir_util import copy_tree"
   ]
  },
  {
   "cell_type": "code",
   "execution_count": null,
   "id": "346560c5",
   "metadata": {},
   "outputs": [],
   "source": [
    "def ejecucion_de_copia():\n",
    "    \n",
    "    ruta_aplicativo = pathlib.Path().absolute()\n",
    "    ruta_aplicativo = str(ruta_aplicativo)\n",
    "    DIRECTORIO_ORIGEN = ruta_aplicativo + '\\\\' + \"gimp\"      \n",
    "    \n",
    "    for num in range(1,35):\n",
    "        try:\n",
    "            ip = '10.253.3.' + str(num)\n",
    "\n",
    "            DIRECTORIO_DESTINO = r'\\\\' + ip + r'\\c$\\Program Files' \n",
    "\n",
    "            print(ip)\n",
    "            print(\"Copiando...del directorio: \" + DIRECTORIO_ORIGEN + ' al directorio: ' + DIRECTORIO_DESTINO)\n",
    "            #copy_tree(DIRECTORIO_ORIGEN, DIRECTORIO_DESTINO + \"\\\\\" + \"Signatures\")\n",
    "            print(\"Copiado\", \"\\n\")\n",
    "\n",
    "\n",
    "        except: \n",
    "            print('\\n' + \"No se puede acceder al pc con IP: \"+ ip)\n",
    "\n",
    "ejecucion_de_copia()"
   ]
  },
  {
   "cell_type": "code",
   "execution_count": 3,
   "id": "662f0113",
   "metadata": {},
   "outputs": [
    {
     "name": "stdout",
     "output_type": "stream",
     "text": [
      "192.168.52.104\n",
      "Copiando...del directorio: C:\\Users\\adm-a202781\\firma\\gimp al directorio: \\\\192.168.52.104\\c$\\Program Files\n",
      "Copiado \n",
      "\n"
     ]
    }
   ],
   "source": [
    "def ejecucion_de_copia():\n",
    "    \n",
    "    ruta_aplicativo = pathlib.Path().absolute()\n",
    "    ruta_aplicativo = str(ruta_aplicativo)\n",
    "    DIRECTORIO_ORIGEN = ruta_aplicativo + '\\\\' + \"gimp\"      \n",
    "    \n",
    "    try:\n",
    "        ip = '10.253.3.'\n",
    "\n",
    "        DIRECTORIO_DESTINO = r'\\\\' + ip + r'\\c$\\Program Files' \n",
    "\n",
    "        print(ip)\n",
    "        print(\"Copiando...del directorio: \" + DIRECTORIO_ORIGEN + ' al directorio: ' + DIRECTORIO_DESTINO)\n",
    "        \n",
    "        \n",
    "        try:\n",
    "            copy_tree(DIRECTORIO_ORIGEN, DIRECTORIO_DESTINO)\n",
    "            print(\"Copiado\", \"\\n\")\n",
    "        except:\n",
    "            print(\"error\")\n",
    "\n",
    "        \n",
    "    except: \n",
    "        print('\\n' + \"No se puede acceder al pc con IP: \"+ ip) \n",
    "        \n",
    "ejecucion_de_copia()"
   ]
  },
  {
   "cell_type": "code",
   "execution_count": null,
   "id": "1636fcd9",
   "metadata": {},
   "outputs": [],
   "source": [
    "def ejecucion_de_copia():\n",
    "    \n",
    "    ruta_aplicativo = pathlib.Path().absolute()\n",
    "    ruta_aplicativo = str(ruta_aplicativo)\n",
    "    DIRECTORIO_ORIGEN = ruta_aplicativo + '\\\\' + \"config\"      \n",
    "    \n",
    "    try:\n",
    "                \n",
    "        for i in range(1, 36):\n",
    "            ip = '10.253.3.'\n",
    "            ip = ip + str(i)\n",
    "            DIRECTORIO_DESTINO = r'\\\\' + ip + r'\\c$\\Program Files\\PaperCut MF Client' \n",
    "            print(DIRECTORIO_DESTINO)\n",
    "            print(\"Copiando...del directorio: \" + DIRECTORIO_ORIGEN + ' al directorio: ' + DIRECTORIO_DESTINO)\n",
    "\n",
    "        \n",
    "        try:\n",
    "            copy_tree(DIRECTORIO_ORIGEN, DIRECTORIO_DESTINO)\n",
    "            print(\"Copiado\", \"\\n\")\n",
    "        except:\n",
    "            print(\"error\")\n",
    "\n",
    "        \n",
    "    except: \n",
    "        print('\\n' + \"No se puede acceder al pc con IP: \"+ ip) \n",
    "        \n",
    "ejecucion_de_copia()"
   ]
  },
  {
   "cell_type": "code",
   "execution_count": 27,
   "id": "0094c54c",
   "metadata": {},
   "outputs": [
    {
     "name": "stdout",
     "output_type": "stream",
     "text": [
      "\\\\10.253.3.180\\c$\\Program Files\\PaperCut MF Client\n",
      "Copiando...del directorio: C:\\Users\\adm-a202781\\firma\\config al directorio: \\\\10.253.3.180\\c$\\Program Files\\PaperCut MF Client\n",
      "Copiado \n",
      "\n"
     ]
    }
   ],
   "source": [
    "##Prueba un equipo\n",
    "\n",
    "ip = '10.253.3.180'\n",
    "\n",
    "DIRECTORIO_DESTINO = r'\\\\' + ip + r'\\c$\\Program Files\\PaperCut MF Client' \n",
    "print(DIRECTORIO_DESTINO)\n",
    "print(\"Copiando...del directorio: \" + DIRECTORIO_ORIGEN + ' al directorio: ' + DIRECTORIO_DESTINO)\n",
    "\n",
    "\n",
    "try:\n",
    "    copy_tree(DIRECTORIO_ORIGEN, DIRECTORIO_DESTINO)\n",
    "    print(\"Copiado\", \"\\n\")\n",
    "except:\n",
    "    print(\"error\")"
   ]
  },
  {
   "cell_type": "code",
   "execution_count": 16,
   "id": "4dc638bf",
   "metadata": {},
   "outputs": [],
   "source": [
    "ruta_aplicativo = pathlib.Path().absolute()\n",
    "ruta_aplicativo = str(ruta_aplicativo)\n",
    "\n",
    "DIRECTORIO_ORIGEN = ruta_aplicativo + '\\\\' + \"config\"    "
   ]
  },
  {
   "cell_type": "code",
   "execution_count": 17,
   "id": "75f443ed",
   "metadata": {},
   "outputs": [
    {
     "data": {
      "text/plain": [
       "'C:\\\\Users\\\\adm-a202781\\\\firma\\\\config'"
      ]
     },
     "execution_count": 17,
     "metadata": {},
     "output_type": "execute_result"
    }
   ],
   "source": [
    "DIRECTORIO_ORIGEN"
   ]
  },
  {
   "cell_type": "code",
   "execution_count": 19,
   "id": "a4f4f877",
   "metadata": {},
   "outputs": [
    {
     "data": {
      "text/plain": [
       "['config.properties']"
      ]
     },
     "execution_count": 19,
     "metadata": {},
     "output_type": "execute_result"
    }
   ],
   "source": [
    "os.listdir(DIRECTORIO_ORIGEN)"
   ]
  },
  {
   "cell_type": "code",
   "execution_count": null,
   "id": "835e221a",
   "metadata": {},
   "outputs": [],
   "source": []
  }
 ],
 "metadata": {
  "kernelspec": {
   "display_name": "Python 3 (ipykernel)",
   "language": "python",
   "name": "python3"
  },
  "language_info": {
   "codemirror_mode": {
    "name": "ipython",
    "version": 3
   },
   "file_extension": ".py",
   "mimetype": "text/x-python",
   "name": "python",
   "nbconvert_exporter": "python",
   "pygments_lexer": "ipython3",
   "version": "3.7.5"
  }
 },
 "nbformat": 4,
 "nbformat_minor": 5
}
