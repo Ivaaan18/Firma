{
 "cells": [
  {
   "cell_type": "code",
   "execution_count": 7,
   "id": "741860e7",
   "metadata": {},
   "outputs": [],
   "source": [
    "import os\n",
    "import pathlib\n",
    "import shutil\n",
    "from distutils.dir_util import copy_tree\n",
    "import pandas as pd"
   ]
  },
  {
   "cell_type": "code",
   "execution_count": 43,
   "id": "bbed1bb8",
   "metadata": {},
   "outputs": [],
   "source": [
    "def ejecucion_de_copia():\n",
    "    \n",
    "    ruta_aplicativo = pathlib.Path().absolute()\n",
    "    ruta_aplicativo = str(ruta_aplicativo)\n",
    "    DIRECTORIO_ORIGEN = ruta_aplicativo + '\\\\' + \"config\"      \n",
    "    \n",
    "    faltantes = []\n",
    "    \n",
    "    for i in range(1, 36):\n",
    "        ip = '10.253.3.'\n",
    "        ip = ip + str(i)\n",
    "        DIRECTORIO_DESTINO = r'\\\\' + ip + r'\\c$\\Program Files\\PaperCut MF Client' \n",
    "        #print(DIRECTORIO_DESTINO)\n",
    "        #print(ip, \"\\n\")\n",
    "        #print(\"Copiando...del directorio: \" + DIRECTORIO_ORIGEN + ' al directorio: ' + DIRECTORIO_DESTINO)\n",
    "        \n",
    "        try:\n",
    "            if 'config.properties' in os.listdir(DIRECTORIO_DESTINO):\n",
    "                #print('Existe config.properties')\n",
    "                #print('Eliminando archivo antiguo')\n",
    "                os.remove(DIRECTORIO_DESTINO + '\\\\' +'config.properties') \n",
    "\n",
    "            try:\n",
    "                copy_tree(DIRECTORIO_ORIGEN, DIRECTORIO_DESTINO)\n",
    "                #print(\"Copiado\", \"\\n\")\n",
    "            except:\n",
    "                #print(\"error\")\n",
    "                pass\n",
    "        except:\n",
    "            faltantes.append(ip)\n",
    "\n",
    "    return(faltantes)"
   ]
  },
  {
   "cell_type": "code",
   "execution_count": null,
   "id": "6d980bd4",
   "metadata": {},
   "outputs": [],
   "source": [
    "faltantes = ejecucion_de_copia()\n",
    "\n",
    "faltantes_df = pd.DataFrame((faltantes),\n",
    "                   columns=['Pcs_faltantesMediateca_Config'])\n",
    "\n",
    "print(faltantes_df)\n",
    "\n",
    "faltantes_df.to_csv(\"Pcs_faltantesMediateca_Config\", index=False)"
   ]
  },
  {
   "cell_type": "code",
   "execution_count": 41,
   "id": "2a719cef",
   "metadata": {},
   "outputs": [],
   "source": [
    "#Prueba En un equipo\n",
    "\n",
    "#ruta_aplicativo = pathlib.Path().absolute()\n",
    "#ruta_aplicativo = str(ruta_aplicativo)\n",
    "#DIRECTORIO_ORIGEN = ruta_aplicativo + '\\\\' + \"config\"    \n",
    "#\n",
    "#ip = '10.253.3.10'\n",
    "#DIRECTORIO_DESTINO = r'\\\\' + ip + r'\\c$\\Program Files\\PaperCut MF Client' \n",
    "##print(DIRECTORIO_DESTINO)\n",
    "##print(os.listdir(DIRECTORIO_DESTINO))\n",
    "#\n",
    "#if 'config.properties' in os.listdir(DIRECTORIO_DESTINO):\n",
    "#    print('Existe config.properties')\n",
    "#    print('Eliminando archivo antiguo')\n",
    "#    os.remove(DIRECTORIO_DESTINO + '\\\\' +'config.properties') \n",
    "#try:\n",
    "#    copy_tree(DIRECTORIO_ORIGEN, DIRECTORIO_DESTINO)\n",
    "#    print(\"Copiado\", \"\\n\")\n",
    "#except:\n",
    "#    print(\"error\")"
   ]
  }
 ],
 "metadata": {
  "kernelspec": {
   "display_name": "Python 3 (ipykernel)",
   "language": "python",
   "name": "python3"
  },
  "language_info": {
   "codemirror_mode": {
    "name": "ipython",
    "version": 3
   },
   "file_extension": ".py",
   "mimetype": "text/x-python",
   "name": "python",
   "nbconvert_exporter": "python",
   "pygments_lexer": "ipython3",
   "version": "3.7.5"
  }
 },
 "nbformat": 4,
 "nbformat_minor": 5
}
