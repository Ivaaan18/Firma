{
 "cells": [
  {
   "cell_type": "code",
   "execution_count": null,
   "id": "fe4b3c98",
   "metadata": {},
   "outputs": [],
   "source": [
    "import os\n",
    "import pathlib\n",
    "import shutil\n",
    "from distutils.dir_util import copy_tree"
   ]
  },
  {
   "cell_type": "code",
   "execution_count": null,
   "id": "b3224d6b",
   "metadata": {},
   "outputs": [],
   "source": [
    "ruta_aplicativo = pathlib.Path().absolute()\n",
    "ruta_aplicativo = str(ruta_aplicativo)"
   ]
  },
  {
   "cell_type": "code",
   "execution_count": null,
   "id": "7e2dc3c0",
   "metadata": {},
   "outputs": [],
   "source": [
    "def copia_directorios(origen = r'c:\\\\prueba_origen\\\\firma_origen', destino=r'c:\\\\prueba_destino\\\\firma_destino'):    \n",
    "    DIRECTORIO_ORIGEN = r'c:\\\\prueba_origen\\\\firma_origen'\n",
    "    DIRECTORIO_DESTINO = r'c:\\\\prueba_destino'\n",
    "\n",
    "\n",
    "    if 'firma_destino' in os.listdir(r'c:\\\\prueba_destino\\\\'):\n",
    "        print(\"eliminando carpeta antigua\")\n",
    "        shutil.rmtree(DIRECTORIO_DESTINO + \"\\\\\" +\"firma_destino\")\n",
    "        print(\"creando carpeta nueva\")\n",
    "        os.mkdir(DIRECTORIO_DESTINO + \"\\\\\" + \"firma_destino\")\n",
    "\n",
    "        print(\"Copiando...\")\n",
    "        copy_tree(DIRECTORIO_ORIGEN, DIRECTORIO_DESTINO + \"\\\\\" + \"firma_destino\")\n",
    "        print(\"Copiado\")\n",
    "\n",
    "\n",
    "    else:\n",
    "        print(\"creando carpeta nueva\")\n",
    "        os.mkdir(DIRECTORIO_DESTINO + \"\\\\\" +\"firma_destino\")\n",
    "        print(\"Copiando...\")\n",
    "        copy_tree(DIRECTORIO_ORIGEN, DIRECTORIO_DESTINO + \"\\\\\" + \"firma_destino\")\n",
    "        print(\"Copiado\")"
   ]
  },
  {
   "cell_type": "code",
   "execution_count": null,
   "id": "7d495b12",
   "metadata": {},
   "outputs": [],
   "source": [
    "def printear_usuarios(pc, c=r'\\c$\\Users'):\n",
    "    \n",
    "    os.chdir(r'\\\\' + pc + c)\n",
    "    \n",
    "    users=os.listdir() #Lista de los usuarios logados en pc\n",
    "\n",
    "    start_letter1 = ('a1')\n",
    "    start_letter2 = ('a2')\n",
    "    start_letter3 = ('A1')\n",
    "    start_letter4 = ('A2')\n",
    "\n",
    "    with_s1 = [x for x in users if x.startswith(start_letter1)] \n",
    "    with_s2 = [x for x in users if x.startswith(start_letter2)] \n",
    "    with_s3 = [x for x in users if x.startswith(start_letter3)] \n",
    "    with_s4 = [x for x in users if x.startswith(start_letter4)] \n",
    "\n",
    "    usuarios_pc = with_s1 + with_s2 + with_s3 + with_s4\n",
    "    \n",
    "    \n",
    "    return(usuarios_pc)"
   ]
  },
  {
   "cell_type": "code",
   "execution_count": null,
   "id": "8254eace",
   "metadata": {},
   "outputs": [],
   "source": [
    "class color:\n",
    "   PURPLE = '\\033[95m'\n",
    "   CYAN = '\\033[96m'\n",
    "   DARKCYAN = '\\033[36m'\n",
    "   BLUE = '\\033[94m'\n",
    "   GREEN = '\\033[92m'\n",
    "   YELLOW = '\\033[93m'\n",
    "   RED = '\\033[91m'\n",
    "   BOLD = '\\033[1m'\n",
    "   UNDERLINE = '\\033[4m'\n",
    "   END = '\\033[0m'"
   ]
  },
  {
   "cell_type": "code",
   "execution_count": null,
   "id": "2aded8d5",
   "metadata": {},
   "outputs": [],
   "source": [
    "def carpeta_local(user_local='a202781', c_local = r'c:\\Users', ruta_local='Firmas_compis\\Firmas_Ivan'):\n",
    "\n",
    "    os.chdir(c_local + \"\\\\\" + user_local + \"\\\\\"  + ruta_local)\n",
    "\n",
    "    firma_compis = os.listdir()  \n",
    "    \n",
    "    return(firma_compis, user_local, c_local, ruta_local)\n"
   ]
  },
  {
   "cell_type": "code",
   "execution_count": null,
   "id": "3cb96677",
   "metadata": {},
   "outputs": [],
   "source": [
    "#Listas\n",
    "\n",
    "#pcs = ['pcs0389']\n",
    "\n",
    "pcs = ['pcs0345','pcs0346', 'pcs0347', 'pcs0348']\n",
    "\n",
    "#usuarios = []\n",
    "c = r'\\c$\\Users'\n",
    "\n",
    "pc_desconectados = []\n",
    "usuarios_fallados = []  \n",
    "\n",
    "#contador = 0\n",
    "\n",
    "\n",
    "ruta_archivos_inicio = (ruta_aplicativo + '\\\\' + 'prueba_aplicativo')\n",
    "\n",
    "\n",
    "\n",
    "\n",
    "for pc in pcs: #Este bucle itera la lista de pcs \n",
    "    \n",
    "    try: #Control de errores pc\n",
    "        #1.- Si tenemos los usuarios nos podemos saltar esta parte.\n",
    "        \n",
    "        usuarios_pc = printear_usuarios(pc, c)\n",
    "        print('\\n')\n",
    "        print(color.BOLD + pc + color.END)\n",
    "        #print(usuarios_pc)\n",
    "        #print(len(usuarios_pc))\n",
    "\n",
    "\n",
    "        for usuario in usuarios_pc: #Dentro de cada pc iteramos en los usuarios.\n",
    "            usuario = usuario.strip().lower().replace(\" \", \"\")\n",
    "            \n",
    "            try: #Control de errores de usuarios\n",
    "                ruta = '\\AppData\\Roaming\\Microsoft'\n",
    "                os.chdir(r'\\\\' + pc + c + \"\\\\\" + usuario + ruta)\n",
    "                directorio_microsoft = os.listdir()\n",
    "\n",
    "                try:#control de errores para los prints este hay que quitarlo cuando funcione el código. Sobra!!!!!\n",
    "                    if 'Firmas' in directorio_microsoft:\n",
    "                        firma = '\\AppData\\Roaming\\Microsoft\\Firmas'\n",
    "                        os.chdir(r'\\\\' + pc + c + \"\\\\\" + usuario + firma)\n",
    "                        print(color.BOLD + \"usuario: \" + usuario + color.END)\n",
    "                        #print(os.getcwd())  \n",
    "                        \n",
    "                        ruta_archivos_destino = (r'\\\\' + pc + c + \"\\\\\" + usuario + firma)\n",
    "                        print(\"Ruta de red: \" + ruta_archivos_destino)\n",
    "                        print(\"Ruta local: \" + ruta_archivos_inicio) \n",
    "                        \n",
    "                        try:\n",
    "                            os.chdir(ruta_archivos_inicio + \"\\\\\" + usuario)\n",
    "                            print(os.getcwd()) \n",
    "                            print(os.listdir()) #Listado del directorio local  \n",
    "                                \n",
    "                        \n",
    "                        \n",
    "                        \n",
    "                        \n",
    "                        except:\n",
    "                            print(\"Falla compi usuario\")\n",
    "                        \n",
    "                        \n",
    "                \n",
    "                        #firma_compis, user_local, c_local, ruta_local = carpeta_local()\n",
    "                        \n",
    "                        #try:\n",
    "                        #\n",
    "                        #    for compis in firma_compis: \n",
    "                        #        ruta_carpeta_local = (c_local + \"\\\\\" + user_local + \"\\\\\"  + ruta_local + \"\\\\\" + compis)\n",
    "                        #        print(ruta_carpeta_local)\n",
    "#\n",
    "                        #        \n",
    "                        #        #ruta_carpeta_destino = os.getcwd()                               \n",
    "                        #        \n",
    "#\n",
    "                        #        #shutil.copy(ruta_carpeta_inicio, ruta_carpeta_destino + \"LCE.htm\")\n",
    "                        #        #shutil.copy(ruta_carpeta_inicio, ruta_carpeta_destino + \"LCE_archivos\")\n",
    "                        #except:\n",
    "                        #    print(\"falla\")\n",
    "                        \n",
    "                    \n",
    "                    \n",
    "                    \n",
    "                    \n",
    "                    \n",
    "                    \n",
    "                    else:\n",
    "                        firma = '\\AppData\\Roaming\\Microsoft\\Signatures'\n",
    "                        os.chdir(r'\\\\' + pc + c + \"\\\\\" + usuario + firma)\n",
    "                        print(color.BOLD + \"usuario: \" + usuario + color.END)\n",
    "                        print(os.getcwd())\n",
    "                except:\n",
    "                    #print('\\n' + \"No se puede acceder al usuario \"+ color.BOLD + usuario + color.END)\n",
    "                    usrs = [pc, usuario]\n",
    "                    usuarios_fallados.append(usrs) \n",
    "            except:\n",
    "                pass\n",
    "            #contador +=1\n",
    "                           \n",
    "    except: #Con el primer for itereamos en los pcs, realizamos este control de errores para evitar perder tiempo a la hora de saber que no tenemos conexion al pc\n",
    "        print('\\n' + \"No se puede acceder al pc \"+ color.BOLD + pc + color.END + \" está desconectado\")\n",
    "        pc_desconectados.append(pc)\n",
    "        \n",
    "        "
   ]
  },
  {
   "cell_type": "code",
   "execution_count": null,
   "id": "4c85d317",
   "metadata": {},
   "outputs": [],
   "source": []
  },
  {
   "cell_type": "code",
   "execution_count": null,
   "id": "406a1475",
   "metadata": {},
   "outputs": [],
   "source": []
  },
  {
   "cell_type": "code",
   "execution_count": null,
   "id": "7ec63d53",
   "metadata": {},
   "outputs": [],
   "source": [
    "#import pandas as pd\n",
    "#  \n",
    "#fail = {'pc' : [],'users' : []} \n",
    "#  \n",
    "#usuarios_fail = pd.DataFrame(fail) \n",
    "#  \n",
    "#usuarios_fail \n"
   ]
  },
  {
   "cell_type": "code",
   "execution_count": null,
   "id": "9d516bbc",
   "metadata": {},
   "outputs": [],
   "source": [
    "#usuarios_fail = usuarios_fail.append({'pc' : 113 , 'users' : 113}, ignore_index=True)\n",
    "#usuarios_fail"
   ]
  },
  {
   "cell_type": "code",
   "execution_count": null,
   "id": "cc1f10b4",
   "metadata": {},
   "outputs": [],
   "source": [
    "#def prueba(a,b):\n",
    "#    return(a,b)\n",
    "#\n",
    "#t,j = prueba(1,2)\n",
    "#print(t)\n",
    "#print(j)"
   ]
  },
  {
   "cell_type": "code",
   "execution_count": null,
   "id": "2a50873c",
   "metadata": {},
   "outputs": [],
   "source": [
    "#hola = 'HOLA Pythonista'\n",
    "#hola_lower = hola.strip().lower().replace(\" \", \"\")"
   ]
  },
  {
   "cell_type": "code",
   "execution_count": null,
   "id": "f457ea69",
   "metadata": {},
   "outputs": [],
   "source": [
    "#hola_lower"
   ]
  },
  {
   "cell_type": "code",
   "execution_count": null,
   "id": "54e759db",
   "metadata": {},
   "outputs": [],
   "source": [
    "DIRECTORIO_DESTINO = r'c:\\\\prueba_destino'\n",
    "os.mkdir(DIRECTORIO_DESTINO + \"\\\\\" +\"firma_destino\")\n"
   ]
  },
  {
   "cell_type": "code",
   "execution_count": null,
   "id": "e8e47a17",
   "metadata": {},
   "outputs": [],
   "source": [
    "shutil.rmtree(DIRECTORIO_DESTINO + \"\\\\\" +\"firma_destino\")"
   ]
  },
  {
   "cell_type": "code",
   "execution_count": 1,
   "id": "9ef0cf1d",
   "metadata": {},
   "outputs": [
    {
     "name": "stdout",
     "output_type": "stream",
     "text": [
      "creando carpeta nueva\n",
      "Copiando...\n",
      "Copiado\n"
     ]
    }
   ],
   "source": [
    "\n",
    "\n",
    "DIRECTORIO_ORIGEN = r'c:\\\\prueba_origen\\\\firma_origen'\n",
    "DIRECTORIO_DESTINO = r'c:\\\\prueba_destino'\n",
    "\n",
    "\n",
    "if 'firma_destino' in os.listdir(r'c:\\\\prueba_destino\\\\'):\n",
    "    print(\"eliminando carpeta antigua\")\n",
    "    shutil.rmtree(DIRECTORIO_DESTINO + \"\\\\\" +\"firma_destino\")\n",
    "    print(\"creando carpeta nueva\")\n",
    "    os.mkdir(DIRECTORIO_DESTINO + \"\\\\\" + \"firma_destino\")\n",
    "    \n",
    "    print(\"Copiando...\")\n",
    "    copy_tree(DIRECTORIO_ORIGEN, DIRECTORIO_DESTINO + \"\\\\\" + \"firma_destino\")\n",
    "    print(\"Copiado\")\n",
    "    \n",
    "    \n",
    "else:\n",
    "    print(\"creando carpeta nueva\")\n",
    "    os.mkdir(DIRECTORIO_DESTINO + \"\\\\\" +\"firma_destino\")\n",
    "    print(\"Copiando...\")\n",
    "    copy_tree(DIRECTORIO_ORIGEN, DIRECTORIO_DESTINO + \"\\\\\" + \"firma_destino\")\n",
    "    print(\"Copiado\")"
   ]
  },
  {
   "cell_type": "code",
   "execution_count": null,
   "id": "cc163074",
   "metadata": {},
   "outputs": [],
   "source": []
  },
  {
   "cell_type": "code",
   "execution_count": null,
   "id": "e670224c",
   "metadata": {},
   "outputs": [],
   "source": [
    "from distutils.dir_util import copy_tree"
   ]
  },
  {
   "cell_type": "code",
   "execution_count": null,
   "id": "c637f0e7",
   "metadata": {},
   "outputs": [],
   "source": [
    "os.chdir(r'c:\\\\pruebas2022')\n",
    "os.getcwd()\n",
    "\n",
    "origen = r'c:\\\\prueba_origen\\\\firma_origen'\n",
    "destino = r'c:\\\\prueba_destino\\\\firma_destino'\n",
    "\n",
    "\n",
    "shutil.copy(origen,destino)"
   ]
  },
  {
   "cell_type": "code",
   "execution_count": null,
   "id": "84620686",
   "metadata": {},
   "outputs": [],
   "source": []
  },
  {
   "cell_type": "code",
   "execution_count": null,
   "id": "b26fbf7d",
   "metadata": {},
   "outputs": [],
   "source": [
    "path_desktop"
   ]
  },
  {
   "cell_type": "code",
   "execution_count": null,
   "id": "f69ed9e6",
   "metadata": {},
   "outputs": [],
   "source": []
  },
  {
   "cell_type": "code",
   "execution_count": null,
   "id": "01d95d01",
   "metadata": {},
   "outputs": [],
   "source": []
  },
  {
   "cell_type": "code",
   "execution_count": null,
   "id": "b165d060",
   "metadata": {},
   "outputs": [],
   "source": []
  },
  {
   "cell_type": "code",
   "execution_count": null,
   "id": "c68cde19",
   "metadata": {},
   "outputs": [],
   "source": []
  },
  {
   "cell_type": "code",
   "execution_count": null,
   "id": "aa4a0fb7",
   "metadata": {},
   "outputs": [],
   "source": []
  },
  {
   "cell_type": "code",
   "execution_count": null,
   "id": "27a03d9c",
   "metadata": {},
   "outputs": [],
   "source": []
  },
  {
   "cell_type": "code",
   "execution_count": null,
   "id": "1b4edf8b",
   "metadata": {},
   "outputs": [],
   "source": []
  },
  {
   "cell_type": "code",
   "execution_count": null,
   "id": "615119ac",
   "metadata": {},
   "outputs": [],
   "source": []
  },
  {
   "cell_type": "code",
   "execution_count": null,
   "id": "672de6f6",
   "metadata": {},
   "outputs": [],
   "source": [
    "#usuario= 'a200057'\n",
    "#pc = 'pcs0346'\n",
    "#c = r'\\c$\\Users'\n",
    "#firma = '\\AppData\\Roaming\\Microsoft\\Signatures'\n",
    "#\n",
    "#os.chdir(r'\\\\' + pc + c + \"\\\\\" + usuario + firma)"
   ]
  },
  {
   "cell_type": "code",
   "execution_count": null,
   "id": "d80698c5",
   "metadata": {},
   "outputs": [],
   "source": []
  },
  {
   "cell_type": "code",
   "execution_count": null,
   "id": "1640ffeb",
   "metadata": {},
   "outputs": [],
   "source": []
  },
  {
   "cell_type": "code",
   "execution_count": null,
   "id": "33399218",
   "metadata": {},
   "outputs": [],
   "source": []
  },
  {
   "cell_type": "code",
   "execution_count": null,
   "id": "6ba23590",
   "metadata": {},
   "outputs": [],
   "source": [
    "#pc = 'pcs0346'\n",
    "#c = r'\\c$\\Users'\n",
    "#\n",
    "#os.chdir(r'\\\\' + pc + c)\n",
    "#os.getcwd()"
   ]
  },
  {
   "cell_type": "code",
   "execution_count": null,
   "id": "1b94c7ec",
   "metadata": {},
   "outputs": [],
   "source": [
    "#os.listdir()"
   ]
  },
  {
   "cell_type": "code",
   "execution_count": null,
   "id": "d6c814e1",
   "metadata": {},
   "outputs": [],
   "source": [
    "#os.chdir(r'\\\\' + 'pcs0346' + r'\\c$\\Users' + \"\\\\\" + 'a200057' + '\\AppData\\Roaming\\Microsoft')\n",
    "#os.getcwd()\n",
    "#os.listdir()"
   ]
  },
  {
   "cell_type": "code",
   "execution_count": null,
   "id": "58768bcd",
   "metadata": {},
   "outputs": [],
   "source": [
    "#print(os.getcwd())"
   ]
  },
  {
   "cell_type": "code",
   "execution_count": null,
   "id": "c1664bea",
   "metadata": {},
   "outputs": [],
   "source": [
    "#prueba de usuario manual\n",
    "\n",
    "#pc = 'pcs0346'\n",
    "#c = r'\\c$\\Users'\n",
    "#usuario = '\\A144398'\n",
    "#firma = '\\AppData\\Roaming\\Microsoft\\Firmas'\n",
    "#\n",
    "#os.chdir(r'\\\\' + pc + c + usuario + firma)\n",
    "#os.getcwd()\n",
    "#os.listdir()"
   ]
  },
  {
   "cell_type": "code",
   "execution_count": null,
   "id": "2c40bf15",
   "metadata": {},
   "outputs": [],
   "source": []
  },
  {
   "cell_type": "code",
   "execution_count": null,
   "id": "7ea751ce",
   "metadata": {},
   "outputs": [],
   "source": [
    "#test_list = ['sapple', 'orange', 'smango', 'grape'] \n",
    "#  \n",
    "#start_letter = 's'\n",
    "#  \n",
    "#print(\"The original list : \" + str(test_list)) \n",
    "#  \n",
    "#with_s = [x for x in test_list if not x.startswith(start_letter)] \n",
    "#without_s = [x for x in test_list if x not in with_s] \n",
    "#  \n",
    "#print(\"The list without prefix s : \" + str(without_s)) \n",
    "#print(\"The list with prefix s : \" + str(with_s)) "
   ]
  },
  {
   "cell_type": "code",
   "execution_count": null,
   "id": "91a188b8",
   "metadata": {},
   "outputs": [],
   "source": [
    "#usuarios = ['A202509','A144311','A130113','A132726','A134675','A130752','A130751','A135860','A127825','A202184','A202059','A129707','A201699','A202239','A202307','A138075','A200889','A202645','A130408','A133191','A129712','A130750','A142138','A119833','A201262','A150916','A144398','A200744','A200676','A140613','A200788','A129570','A201508','A132725','a202713','A202656','A200046','A134840']"
   ]
  },
  {
   "cell_type": "code",
   "execution_count": null,
   "id": "35b4c8cf",
   "metadata": {},
   "outputs": [],
   "source": [
    "#usuarios_pc = ['A202509','A144311','A130113','A132726','A134675','A130752','A130751','A135860','A127825','A202184','A202059','A129707','A201699','A202239','A202307','A138075','A200889','A202645','A130408','A133191','A129712','A130750','A142138','A119833','A201262','A150916','A144398','A200744','A200676','A140613','A200788','A129570','A201508','A132725','a202713','A202656','A200046','A134840']\n",
    "#pc = 'pcs0346'\n",
    "#c = r'\\c$\\Users'\n",
    "#\n",
    "#for usuario in usuarios_pc:\n",
    "#    try: \n",
    "#        firma = '\\AppData\\Roaming\\Microsoft'\n",
    "#        os.chdir(r'\\\\' + pc + c + \"\\\\\" + usuario + firma)\n",
    "#        directorio_microsoft = os.listdir()\n",
    "#\n",
    "#        try:\n",
    "#            if 'Firmas' in directorio_microsoft:\n",
    "#                firma = '\\AppData\\Roaming\\Microsoft\\Firmas'\n",
    "#                os.chdir(r'\\\\' + pc + c + \"\\\\\" + usuario + firma)\n",
    "#                print(color.BOLD + \"usuario: \" + usuario + color.END)\n",
    "#                print(os.getcwd())\n",
    "#            else:\n",
    "#                firma = '\\AppData\\Roaming\\Microsoft\\Signatures'\n",
    "#                os.chdir(r'\\\\' + pc + c + \"\\\\\" + usuario + firma)\n",
    "#                print(color.BOLD + \"usuario: \" + usuario + color.END)\n",
    "#                print(os.getcwd())\n",
    "#        except:\n",
    "#            print('\\n' + \"No se puede acceder al usuario \"+ color.BOLD + usuario + color.END)\n",
    "#    except:\n",
    "#        print('\\n' + \"No se puede acceder al usuario \"+ color.BOLD + usuario + color.END)"
   ]
  }
 ],
 "metadata": {
  "kernelspec": {
   "display_name": "Python 3 (ipykernel)",
   "language": "python",
   "name": "python3"
  },
  "language_info": {
   "codemirror_mode": {
    "name": "ipython",
    "version": 3
   },
   "file_extension": ".py",
   "mimetype": "text/x-python",
   "name": "python",
   "nbconvert_exporter": "python",
   "pygments_lexer": "ipython3",
   "version": "3.7.5"
  }
 },
 "nbformat": 4,
 "nbformat_minor": 5
}
