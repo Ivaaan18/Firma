{
 "cells": [
  {
   "cell_type": "code",
   "execution_count": 1,
   "id": "47a71a99",
   "metadata": {},
   "outputs": [],
   "source": [
    "import os\n",
    "import pathlib\n",
    "import shutil\n",
    "from distutils.dir_util import copy_tree"
   ]
  },
  {
   "cell_type": "code",
   "execution_count": 2,
   "id": "75be2ad7",
   "metadata": {},
   "outputs": [],
   "source": [
    "ruta_aplicativo = pathlib.Path().absolute()\n",
    "ruta_aplicativo = str(ruta_aplicativo)"
   ]
  },
  {
   "cell_type": "code",
   "execution_count": 3,
   "id": "965255e1",
   "metadata": {},
   "outputs": [],
   "source": [
    "def printear_usuarios(pc, c=r'\\c$\\Users'):\n",
    "    \n",
    "    os.chdir(r'\\\\' + pc + c)\n",
    "    \n",
    "    users=os.listdir() #Lista de los usuarios logados en pc\n",
    "\n",
    "    start_letter1 = ('a1')\n",
    "    start_letter2 = ('a2')\n",
    "    start_letter3 = ('A1')\n",
    "    start_letter4 = ('A2')\n",
    "\n",
    "    with_s1 = [x for x in users if x.startswith(start_letter1)] \n",
    "    with_s2 = [x for x in users if x.startswith(start_letter2)] \n",
    "    with_s3 = [x for x in users if x.startswith(start_letter3)] \n",
    "    with_s4 = [x for x in users if x.startswith(start_letter4)] \n",
    "\n",
    "    usuarios_pc = with_s1 + with_s2 + with_s3 + with_s4\n",
    "    \n",
    "    \n",
    "    return(usuarios_pc)"
   ]
  },
  {
   "cell_type": "code",
   "execution_count": 4,
   "id": "d5f41754",
   "metadata": {},
   "outputs": [],
   "source": [
    "class color:\n",
    "   PURPLE = '\\033[95m'\n",
    "   CYAN = '\\033[96m'\n",
    "   DARKCYAN = '\\033[36m'\n",
    "   BLUE = '\\033[94m'\n",
    "   GREEN = '\\033[92m'\n",
    "   YELLOW = '\\033[93m'\n",
    "   RED = '\\033[91m'\n",
    "   BOLD = '\\033[1m'\n",
    "   UNDERLINE = '\\033[4m'\n",
    "   END = '\\033[0m'"
   ]
  },
  {
   "cell_type": "code",
   "execution_count": 5,
   "id": "e4252ae4",
   "metadata": {},
   "outputs": [],
   "source": [
    "def carpeta_local(user_local='a202781', c_local = r'c:\\Users', ruta_local='Firmas_compis\\Firmas_Ivan'):\n",
    "\n",
    "    #os.chdir(c_local + \"\\\\\" + user_local + \"\\\\\"  + ruta_local)\n",
    "\n",
    "    firma_compis = os.listdir(c_local + \"\\\\\" + user_local + \"\\\\\"  + ruta_local)  \n",
    "    \n",
    "    return(firma_compis, user_local, c_local, ruta_local)\n"
   ]
  },
  {
   "cell_type": "code",
   "execution_count": 42,
   "id": "36a4f4aa",
   "metadata": {},
   "outputs": [
    {
     "name": "stdout",
     "output_type": "stream",
     "text": [
      "\n",
      "\n",
      "\u001b[1mpcs0345\u001b[0m\n",
      "A138075\n",
      "eliminando carpeta antigua: \\\\pcs0345\\c$\\Users\\A138075\\AppData\\Roaming\\Microsoft\\Firmas\n",
      "creando carpeta nueva en: \\\\pcs0345\\c$\\Users\\A138075\\AppData\\Roaming\\Microsoft\\Firmas\n",
      "Copiando... del directorio: C:\\Users\\adm-a202781\\firma\\prueba_aplicativo\\A138075 al directorio: \\\\pcs0345\\c$\\Users\\A138075\\AppData\\Roaming\\Microsoft\\Firmas\n",
      "Copiado \n",
      "\n",
      "A200788\n",
      "eliminando carpeta antigua: \\\\pcs0345\\c$\\Users\\A200788\\AppData\\Roaming\\Microsoft\\Firmas\n",
      "creando carpeta nueva en: \\\\pcs0345\\c$\\Users\\A200788\\AppData\\Roaming\\Microsoft\\Firmas\n",
      "Copiando... del directorio: C:\\Users\\adm-a202781\\firma\\prueba_aplicativo\\A200788 al directorio: \\\\pcs0345\\c$\\Users\\A200788\\AppData\\Roaming\\Microsoft\\Firmas\n",
      "Copiado \n",
      "\n",
      "A202307\n",
      "eliminando carpeta antigua: \\\\pcs0345\\c$\\Users\\A202307\\AppData\\Roaming\\Microsoft\\Firmas\n",
      "creando carpeta nueva en: \\\\pcs0345\\c$\\Users\\A202307\\AppData\\Roaming\\Microsoft\\Firmas\n",
      "Copiando... del directorio: C:\\Users\\adm-a202781\\firma\\prueba_aplicativo\\A202307 al directorio: \\\\pcs0345\\c$\\Users\\A202307\\AppData\\Roaming\\Microsoft\\Firmas\n",
      "Copiado \n",
      "\n",
      "A202645\n",
      "creando carpeta nueva en: \\\\pcs0345\\c$\\Users\\A202645\\AppData\\Roaming\\Microsoft\\Firmas\n",
      "Copiando... del directorio: C:\\Users\\adm-a202781\\firma\\prueba_aplicativo\\A202645 al directorio: \\\\pcs0345\\c$\\Users\\A202645\\AppData\\Roaming\\Microsoft\\Firmas\n",
      "Copiado\n",
      "A202656\n",
      "creando carpeta nueva en: \\\\pcs0345\\c$\\Users\\A202656\\AppData\\Roaming\\Microsoft\\Firmas\n",
      "Copiando... del directorio: C:\\Users\\adm-a202781\\firma\\prueba_aplicativo\\A202656 al directorio: \\\\pcs0345\\c$\\Users\\A202656\\AppData\\Roaming\\Microsoft\\Firmas\n",
      "Copiado\n",
      "\n",
      "\n",
      "\u001b[1mpcs0346\u001b[0m\n",
      "a202713\n",
      "eliminando carpeta antigua: \\\\pcs0346\\c$\\Users\\a202713\\AppData\\Roaming\\Microsoft\\Firmas\n",
      "creando carpeta nueva en: \\\\pcs0346\\c$\\Users\\a202713\\AppData\\Roaming\\Microsoft\\Firmas\n",
      "Copiando... del directorio: C:\\Users\\adm-a202781\\firma\\prueba_aplicativo\\a202713 al directorio: \\\\pcs0346\\c$\\Users\\a202713\\AppData\\Roaming\\Microsoft\\Firmas\n",
      "Copiado \n",
      "\n",
      "A130752\n",
      "eliminando carpeta antigua: \\\\pcs0346\\c$\\Users\\A130752\\AppData\\Roaming\\Microsoft\\Firmas\n",
      "creando carpeta nueva en: \\\\pcs0346\\c$\\Users\\A130752\\AppData\\Roaming\\Microsoft\\Firmas\n",
      "Copiando... del directorio: C:\\Users\\adm-a202781\\firma\\prueba_aplicativo\\A130752 al directorio: \\\\pcs0346\\c$\\Users\\A130752\\AppData\\Roaming\\Microsoft\\Firmas\n",
      "Copiado \n",
      "\n",
      "A138075\n",
      "eliminando carpeta antigua: \\\\pcs0346\\c$\\Users\\A138075\\AppData\\Roaming\\Microsoft\\Firmas\n",
      "creando carpeta nueva en: \\\\pcs0346\\c$\\Users\\A138075\\AppData\\Roaming\\Microsoft\\Firmas\n",
      "Copiando... del directorio: C:\\Users\\adm-a202781\\firma\\prueba_aplicativo\\A138075 al directorio: \\\\pcs0346\\c$\\Users\\A138075\\AppData\\Roaming\\Microsoft\\Firmas\n",
      "Copiado \n",
      "\n",
      "A200046\n",
      "eliminando carpeta antigua: \\\\pcs0346\\c$\\Users\\A200046\\AppData\\Roaming\\Microsoft\\Firmas\n",
      "creando carpeta nueva en: \\\\pcs0346\\c$\\Users\\A200046\\AppData\\Roaming\\Microsoft\\Firmas\n",
      "Copiando... del directorio: C:\\Users\\adm-a202781\\firma\\prueba_aplicativo\\A200046 al directorio: \\\\pcs0346\\c$\\Users\\A200046\\AppData\\Roaming\\Microsoft\\Firmas\n",
      "Copiado \n",
      "\n",
      "A200788\n",
      "eliminando carpeta antigua: \\\\pcs0346\\c$\\Users\\A200788\\AppData\\Roaming\\Microsoft\\Firmas\n",
      "creando carpeta nueva en: \\\\pcs0346\\c$\\Users\\A200788\\AppData\\Roaming\\Microsoft\\Firmas\n",
      "Copiando... del directorio: C:\\Users\\adm-a202781\\firma\\prueba_aplicativo\\A200788 al directorio: \\\\pcs0346\\c$\\Users\\A200788\\AppData\\Roaming\\Microsoft\\Firmas\n",
      "Copiado \n",
      "\n",
      "A202307\n",
      "eliminando carpeta antigua: \\\\pcs0346\\c$\\Users\\A202307\\AppData\\Roaming\\Microsoft\\Firmas\n",
      "creando carpeta nueva en: \\\\pcs0346\\c$\\Users\\A202307\\AppData\\Roaming\\Microsoft\\Firmas\n",
      "Copiando... del directorio: C:\\Users\\adm-a202781\\firma\\prueba_aplicativo\\A202307 al directorio: \\\\pcs0346\\c$\\Users\\A202307\\AppData\\Roaming\\Microsoft\\Firmas\n",
      "Copiado \n",
      "\n",
      "A202645\n",
      "eliminando carpeta antigua: \\\\pcs0346\\c$\\Users\\A202645\\AppData\\Roaming\\Microsoft\\Firmas\n",
      "creando carpeta nueva en: \\\\pcs0346\\c$\\Users\\A202645\\AppData\\Roaming\\Microsoft\\Firmas\n",
      "Copiando... del directorio: C:\\Users\\adm-a202781\\firma\\prueba_aplicativo\\A202645 al directorio: \\\\pcs0346\\c$\\Users\\A202645\\AppData\\Roaming\\Microsoft\\Firmas\n",
      "Copiado \n",
      "\n",
      "A202656\n",
      "eliminando carpeta antigua: \\\\pcs0346\\c$\\Users\\A202656\\AppData\\Roaming\\Microsoft\\Firmas\n",
      "creando carpeta nueva en: \\\\pcs0346\\c$\\Users\\A202656\\AppData\\Roaming\\Microsoft\\Firmas\n",
      "Copiando... del directorio: C:\\Users\\adm-a202781\\firma\\prueba_aplicativo\\A202656 al directorio: \\\\pcs0346\\c$\\Users\\A202656\\AppData\\Roaming\\Microsoft\\Firmas\n",
      "Copiado \n",
      "\n",
      "\n",
      "\n",
      "\u001b[1mpcs0347\u001b[0m\n",
      "a202713\n",
      "eliminando carpeta antigua: \\\\pcs0347\\c$\\Users\\a202713\\AppData\\Roaming\\Microsoft\\Firmas\n",
      "creando carpeta nueva en: \\\\pcs0347\\c$\\Users\\a202713\\AppData\\Roaming\\Microsoft\\Firmas\n",
      "Copiando... del directorio: C:\\Users\\adm-a202781\\firma\\prueba_aplicativo\\a202713 al directorio: \\\\pcs0347\\c$\\Users\\a202713\\AppData\\Roaming\\Microsoft\\Firmas\n",
      "Copiado \n",
      "\n",
      "A130751\n",
      "eliminando carpeta antigua: \\\\pcs0347\\c$\\Users\\A130751\\AppData\\Roaming\\Microsoft\\Firmas\n",
      "creando carpeta nueva en: \\\\pcs0347\\c$\\Users\\A130751\\AppData\\Roaming\\Microsoft\\Firmas\n",
      "Copiando... del directorio: C:\\Users\\adm-a202781\\firma\\prueba_aplicativo\\A130751 al directorio: \\\\pcs0347\\c$\\Users\\A130751\\AppData\\Roaming\\Microsoft\\Firmas\n",
      "Copiado \n",
      "\n",
      "A130752\n",
      "eliminando carpeta antigua: \\\\pcs0347\\c$\\Users\\A130752\\AppData\\Roaming\\Microsoft\\Firmas\n",
      "creando carpeta nueva en: \\\\pcs0347\\c$\\Users\\A130752\\AppData\\Roaming\\Microsoft\\Firmas\n",
      "Copiando... del directorio: C:\\Users\\adm-a202781\\firma\\prueba_aplicativo\\A130752 al directorio: \\\\pcs0347\\c$\\Users\\A130752\\AppData\\Roaming\\Microsoft\\Firmas\n",
      "Copiado \n",
      "\n",
      "A138075\n",
      "eliminando carpeta antigua: \\\\pcs0347\\c$\\Users\\A138075\\AppData\\Roaming\\Microsoft\\Firmas\n",
      "creando carpeta nueva en: \\\\pcs0347\\c$\\Users\\A138075\\AppData\\Roaming\\Microsoft\\Firmas\n",
      "Copiando... del directorio: C:\\Users\\adm-a202781\\firma\\prueba_aplicativo\\A138075 al directorio: \\\\pcs0347\\c$\\Users\\A138075\\AppData\\Roaming\\Microsoft\\Firmas\n",
      "Copiado \n",
      "\n",
      "A200788\n",
      "eliminando carpeta antigua: \\\\pcs0347\\c$\\Users\\A200788\\AppData\\Roaming\\Microsoft\\Firmas\n",
      "creando carpeta nueva en: \\\\pcs0347\\c$\\Users\\A200788\\AppData\\Roaming\\Microsoft\\Firmas\n",
      "Copiando... del directorio: C:\\Users\\adm-a202781\\firma\\prueba_aplicativo\\A200788 al directorio: \\\\pcs0347\\c$\\Users\\A200788\\AppData\\Roaming\\Microsoft\\Firmas\n",
      "Copiado \n",
      "\n",
      "A200889\n",
      "eliminando carpeta antigua: \\\\pcs0347\\c$\\Users\\A200889\\AppData\\Roaming\\Microsoft\\Firmas\n",
      "creando carpeta nueva en: \\\\pcs0347\\c$\\Users\\A200889\\AppData\\Roaming\\Microsoft\\Firmas\n",
      "Copiando... del directorio: C:\\Users\\adm-a202781\\firma\\prueba_aplicativo\\A200889 al directorio: \\\\pcs0347\\c$\\Users\\A200889\\AppData\\Roaming\\Microsoft\\Firmas\n",
      "Copiado \n",
      "\n",
      "A202307\n",
      "eliminando carpeta antigua: \\\\pcs0347\\c$\\Users\\A202307\\AppData\\Roaming\\Microsoft\\Firmas\n",
      "creando carpeta nueva en: \\\\pcs0347\\c$\\Users\\A202307\\AppData\\Roaming\\Microsoft\\Firmas\n",
      "Copiando... del directorio: C:\\Users\\adm-a202781\\firma\\prueba_aplicativo\\A202307 al directorio: \\\\pcs0347\\c$\\Users\\A202307\\AppData\\Roaming\\Microsoft\\Firmas\n",
      "Copiado \n",
      "\n",
      "A202645\n",
      "eliminando carpeta antigua: \\\\pcs0347\\c$\\Users\\A202645\\AppData\\Roaming\\Microsoft\\Firmas\n",
      "creando carpeta nueva en: \\\\pcs0347\\c$\\Users\\A202645\\AppData\\Roaming\\Microsoft\\Firmas\n",
      "Copiando... del directorio: C:\\Users\\adm-a202781\\firma\\prueba_aplicativo\\A202645 al directorio: \\\\pcs0347\\c$\\Users\\A202645\\AppData\\Roaming\\Microsoft\\Firmas\n",
      "Copiado \n",
      "\n",
      "A202656\n",
      "eliminando carpeta antigua: \\\\pcs0347\\c$\\Users\\A202656\\AppData\\Roaming\\Microsoft\\Firmas\n",
      "creando carpeta nueva en: \\\\pcs0347\\c$\\Users\\A202656\\AppData\\Roaming\\Microsoft\\Firmas\n",
      "Copiando... del directorio: C:\\Users\\adm-a202781\\firma\\prueba_aplicativo\\A202656 al directorio: \\\\pcs0347\\c$\\Users\\A202656\\AppData\\Roaming\\Microsoft\\Firmas\n",
      "Copiado \n",
      "\n",
      "\n",
      "\n",
      "\u001b[1mpcs0348\u001b[0m\n",
      "a202713\n",
      "eliminando carpeta antigua: \\\\pcs0348\\c$\\Users\\a202713\\AppData\\Roaming\\Microsoft\\Firmas\n",
      "creando carpeta nueva en: \\\\pcs0348\\c$\\Users\\a202713\\AppData\\Roaming\\Microsoft\\Firmas\n",
      "Copiando... del directorio: C:\\Users\\adm-a202781\\firma\\prueba_aplicativo\\a202713 al directorio: \\\\pcs0348\\c$\\Users\\a202713\\AppData\\Roaming\\Microsoft\\Firmas\n",
      "Copiado \n",
      "\n",
      "A130751\n",
      "eliminando carpeta antigua: \\\\pcs0348\\c$\\Users\\A130751\\AppData\\Roaming\\Microsoft\\Firmas\n",
      "creando carpeta nueva en: \\\\pcs0348\\c$\\Users\\A130751\\AppData\\Roaming\\Microsoft\\Firmas\n",
      "Copiando... del directorio: C:\\Users\\adm-a202781\\firma\\prueba_aplicativo\\A130751 al directorio: \\\\pcs0348\\c$\\Users\\A130751\\AppData\\Roaming\\Microsoft\\Firmas\n",
      "Copiado \n",
      "\n",
      "A130752\n",
      "eliminando carpeta antigua: \\\\pcs0348\\c$\\Users\\A130752\\AppData\\Roaming\\Microsoft\\Firmas\n",
      "creando carpeta nueva en: \\\\pcs0348\\c$\\Users\\A130752\\AppData\\Roaming\\Microsoft\\Firmas\n",
      "Copiando... del directorio: C:\\Users\\adm-a202781\\firma\\prueba_aplicativo\\A130752 al directorio: \\\\pcs0348\\c$\\Users\\A130752\\AppData\\Roaming\\Microsoft\\Firmas\n",
      "Copiado \n",
      "\n",
      "A138075\n",
      "eliminando carpeta antigua: \\\\pcs0348\\c$\\Users\\A138075\\AppData\\Roaming\\Microsoft\\Firmas\n",
      "creando carpeta nueva en: \\\\pcs0348\\c$\\Users\\A138075\\AppData\\Roaming\\Microsoft\\Firmas\n",
      "Copiando... del directorio: C:\\Users\\adm-a202781\\firma\\prueba_aplicativo\\A138075 al directorio: \\\\pcs0348\\c$\\Users\\A138075\\AppData\\Roaming\\Microsoft\\Firmas\n",
      "Copiado \n",
      "\n",
      "A200046\n",
      "eliminando carpeta antigua: \\\\pcs0348\\c$\\Users\\A200046\\AppData\\Roaming\\Microsoft\\Firmas\n",
      "creando carpeta nueva en: \\\\pcs0348\\c$\\Users\\A200046\\AppData\\Roaming\\Microsoft\\Firmas\n",
      "Copiando... del directorio: C:\\Users\\adm-a202781\\firma\\prueba_aplicativo\\A200046 al directorio: \\\\pcs0348\\c$\\Users\\A200046\\AppData\\Roaming\\Microsoft\\Firmas\n",
      "Copiado \n",
      "\n",
      "A200788\n",
      "eliminando carpeta antigua: \\\\pcs0348\\c$\\Users\\A200788\\AppData\\Roaming\\Microsoft\\Firmas\n",
      "creando carpeta nueva en: \\\\pcs0348\\c$\\Users\\A200788\\AppData\\Roaming\\Microsoft\\Firmas\n",
      "Copiando... del directorio: C:\\Users\\adm-a202781\\firma\\prueba_aplicativo\\A200788 al directorio: \\\\pcs0348\\c$\\Users\\A200788\\AppData\\Roaming\\Microsoft\\Firmas\n",
      "Copiado \n",
      "\n",
      "A202307\n",
      "eliminando carpeta antigua: \\\\pcs0348\\c$\\Users\\A202307\\AppData\\Roaming\\Microsoft\\Firmas\n",
      "creando carpeta nueva en: \\\\pcs0348\\c$\\Users\\A202307\\AppData\\Roaming\\Microsoft\\Firmas\n",
      "Copiando... del directorio: C:\\Users\\adm-a202781\\firma\\prueba_aplicativo\\A202307 al directorio: \\\\pcs0348\\c$\\Users\\A202307\\AppData\\Roaming\\Microsoft\\Firmas\n",
      "Copiado \n",
      "\n",
      "A202645\n",
      "eliminando carpeta antigua: \\\\pcs0348\\c$\\Users\\A202645\\AppData\\Roaming\\Microsoft\\Firmas\n",
      "creando carpeta nueva en: \\\\pcs0348\\c$\\Users\\A202645\\AppData\\Roaming\\Microsoft\\Firmas\n",
      "Copiando... del directorio: C:\\Users\\adm-a202781\\firma\\prueba_aplicativo\\A202645 al directorio: \\\\pcs0348\\c$\\Users\\A202645\\AppData\\Roaming\\Microsoft\\Firmas\n",
      "Copiado \n",
      "\n",
      "A202656\n",
      "eliminando carpeta antigua: \\\\pcs0348\\c$\\Users\\A202656\\AppData\\Roaming\\Microsoft\\Firmas\n",
      "creando carpeta nueva en: \\\\pcs0348\\c$\\Users\\A202656\\AppData\\Roaming\\Microsoft\\Firmas\n",
      "Copiando... del directorio: C:\\Users\\adm-a202781\\firma\\prueba_aplicativo\\A202656 al directorio: \\\\pcs0348\\c$\\Users\\A202656\\AppData\\Roaming\\Microsoft\\Firmas\n",
      "Copiado \n",
      "\n"
     ]
    }
   ],
   "source": [
    "#pcs = ['pcs0345','pcs0346', 'pcs0347', 'pcs0348']\n",
    "c = r'\\c$\\Users'\n",
    "pc_desconectados = []\n",
    "usuarios_fallados = []  \n",
    "#contador = 0\n",
    "\n",
    "pcs = []\n",
    "\n",
    "\n",
    "ruta_archivos_inicio = (ruta_aplicativo + '\\\\' + 'prueba_aplicativo')\n",
    "\n",
    "for pc in pcs: #Este bucle itera la lista de pcs \n",
    "    \n",
    "    try: #Control de errores pc\n",
    "        #1.- Si tenemos los usuarios nos podemos saltar esta parte.\n",
    "        \n",
    "        usuarios_pc = printear_usuarios(pc, c)\n",
    "        print('\\n')\n",
    "        print(color.BOLD + pc + color.END)\n",
    "        #print(usuarios_pc)\n",
    "        #print(len(usuarios_pc))\n",
    "\n",
    "        for usuario in usuarios_pc: #Dentro de cada pc iteramos en los usuarios.\n",
    "            if usuario in os.listdir(ruta_archivos_inicio): \n",
    "                print(usuario)\n",
    "                try: #Control de errores de usuarios\n",
    "                    ruta = '\\AppData\\Roaming\\Microsoft'\n",
    "                    directorio_microsoft = r'\\\\' + pc + c + \"\\\\\" + usuario + ruta\n",
    "\n",
    "                    DIRECTORIO_ORIGEN = ruta_archivos_inicio + '\\\\' + usuario\n",
    "                    DIRECTORIO_DESTINO = directorio_microsoft\n",
    "                    \n",
    "                    \n",
    "                    if 'Firmas' in os.listdir(directorio_microsoft):\n",
    "                        print(\"eliminando carpeta antigua: \" + directorio_microsoft + \"\\\\\" + \"Firmas\")\n",
    "                        #shutil.rmtree(directorio_microsoft + \"\\\\\" +\"Firmas\")\n",
    "                        print(\"creando carpeta nueva: \" + directorio_microsoft + \"\\\\\" + \"Firmas\")\n",
    "                        #os.mkdir(directorio_microsoft + \"\\\\\" + \"Firmas\")\n",
    "                        print(\"Copiando... del directorio: \" + DIRECTORIO_ORIGEN + ' al directorio: ' + DIRECTORIO_DESTINO + \"\\\\\" + \"Firmas\")\n",
    "                        #copy_tree(DIRECTORIO_ORIGEN, DIRECTORIO_DESTINO + \"\\\\\" + \"Firmas\")\n",
    "                        print(\"Copiado\", \"\\n\")\n",
    "\n",
    "\n",
    "                    else:\n",
    "                        print(\"creando carpeta nueva en: \" + directorio_microsoft + \"\\\\\" + \"Firmas\")\n",
    "                        #os.mkdir(directorio_microsoft + \"\\\\\" + \"Firmas\")\n",
    "                        print(\"Copiando... del directorio: \" + DIRECTORIO_ORIGEN + ' al directorio: ' + DIRECTORIO_DESTINO + \"\\\\\" + \"Firmas\")\n",
    "                        #copy_tree(DIRECTORIO_ORIGEN, DIRECTORIO_DESTINO + \"\\\\\" + \"Firmas\")\n",
    "                        print(\"Copiado\")\n",
    "                            \n",
    "                except:\n",
    "                    print(\"try esta fallando\")\n",
    "                #contador +=1                               \n",
    "            else:\n",
    "                pass\n",
    "    except: #Con el primer for itereamos en los pcs, realizamos este control de errores para evitar perder tiempo a la hora de saber que no tenemos conexion al pc\n",
    "        print('\\n' + \"No se puede acceder al pc \"+ color.BOLD + pc + color.END + \" está desconectado\")\n",
    "        pc_desconectados.append(pc)\n",
    "        \n",
    "        "
   ]
  },
  {
   "cell_type": "code",
   "execution_count": 36,
   "id": "af6c340e",
   "metadata": {},
   "outputs": [
    {
     "ename": "TypeError",
     "evalue": "can only concatenate str (not \"list\") to str",
     "output_type": "error",
     "traceback": [
      "\u001b[1;31m---------------------------------------------------------------------------\u001b[0m",
      "\u001b[1;31mTypeError\u001b[0m                                 Traceback (most recent call last)",
      "\u001b[1;32m~\\AppData\\Local\\Temp\\ipykernel_12396\\724378564.py\u001b[0m in \u001b[0;36m<module>\u001b[1;34m\u001b[0m\n\u001b[1;32m----> 1\u001b[1;33m \u001b[0mprint\u001b[0m\u001b[1;33m(\u001b[0m\u001b[1;34m\"eliminando carpeta antigua: \"\u001b[0m \u001b[1;33m+\u001b[0m \u001b[0mdirectorio_microsoft\u001b[0m \u001b[1;33m+\u001b[0m \u001b[1;34m\"\\\\\"\u001b[0m \u001b[1;33m+\u001b[0m \u001b[1;34m\"Firmas\"\u001b[0m\u001b[1;33m)\u001b[0m\u001b[1;33m\u001b[0m\u001b[1;33m\u001b[0m\u001b[0m\n\u001b[0m",
      "\u001b[1;31mTypeError\u001b[0m: can only concatenate str (not \"list\") to str"
     ]
    }
   ],
   "source": [
    "print(\"eliminando carpeta antigua: \" + directorio_microsoft + \"\\\\\" + \"Firmas\")"
   ]
  },
  {
   "cell_type": "code",
   "execution_count": 37,
   "id": "c2659d84",
   "metadata": {},
   "outputs": [
    {
     "data": {
      "text/plain": [
       "['Access',\n",
       " 'Bibliography',\n",
       " 'Complementos',\n",
       " 'Credentials',\n",
       " 'Crypto',\n",
       " 'Document Building Blocks',\n",
       " 'Excel',\n",
       " 'Firmas',\n",
       " 'Internet Explorer',\n",
       " 'Network',\n",
       " 'Office',\n",
       " 'Outlook',\n",
       " 'Plantillas',\n",
       " 'Protect',\n",
       " 'Prueba',\n",
       " 'QuickStyles',\n",
       " 'Speech',\n",
       " 'Spelling',\n",
       " 'SystemCertificates',\n",
       " 'Teams',\n",
       " 'UProof',\n",
       " 'Vault',\n",
       " 'Windows',\n",
       " 'Word']"
      ]
     },
     "execution_count": 37,
     "metadata": {},
     "output_type": "execute_result"
    }
   ],
   "source": [
    "directorio_microsoft"
   ]
  },
  {
   "cell_type": "code",
   "execution_count": null,
   "id": "677a78e1",
   "metadata": {},
   "outputs": [],
   "source": [
    "def copia_directorios(origen = r'c:\\\\prueba_origen\\\\firma_origen', destino=r'c:\\\\prueba_destino\\\\firma_destino'):    \n",
    "    \n",
    "    DIRECTORIO_ORIGEN = r'c:\\\\prueba_origen\\\\firma_origen'\n",
    "    DIRECTORIO_DESTINO = r'c:\\\\prueba_destino'\n",
    "\n",
    "\n",
    "    if 'firma_destino' in os.listdir(r'c:\\\\prueba_destino\\\\'):\n",
    "        print(\"eliminando carpeta antigua\")\n",
    "        shutil.rmtree(DIRECTORIO_DESTINO + \"\\\\\" +\"firma_destino\")\n",
    "        print(\"creando carpeta nueva\")\n",
    "        os.mkdir(DIRECTORIO_DESTINO + \"\\\\\" + \"firma_destino\")\n",
    "\n",
    "        print(\"Copiando...\")\n",
    "        copy_tree(DIRECTORIO_ORIGEN, DIRECTORIO_DESTINO + \"\\\\\" + \"firma_destino\")\n",
    "        print(\"Copiado\")\n",
    "\n",
    "\n",
    "    else:\n",
    "        print(\"creando carpeta nueva\")\n",
    "        os.mkdir(DIRECTORIO_DESTINO + \"\\\\\" +\"firma_destino\")\n",
    "        print(\"Copiando...\")\n",
    "        copy_tree(DIRECTORIO_ORIGEN, DIRECTORIO_DESTINO + \"\\\\\" + \"firma_destino\")\n",
    "        print(\"Copiado\")"
   ]
  },
  {
   "cell_type": "code",
   "execution_count": null,
   "id": "894885b4",
   "metadata": {},
   "outputs": [],
   "source": [
    "def copia_directorios(origen = r'c:\\\\prueba_origen\\\\firma_origen', destino=r'c:\\\\prueba_destino\\\\firma_destino',\n",
    "                     DIRECTORIO_ORIGEN = ruta_archivos_inicio, DIRECTORIO_DESTINO = ruta_archivos_destino):    \n",
    "    \n",
    "    DIRECTORIO_ORIGEN = r'c:\\\\prueba_origen\\\\firma_origen'\n",
    "    DIRECTORIO_DESTINO = r'c:\\\\prueba_destino'\n",
    "    \n",
    "\n",
    "    if 'Firmas' in os.listdir(r'c:\\\\prueba_destino\\\\'):\n",
    "        print(\"eliminando carpeta antigua\")\n",
    "        shutil.rmtree(DIRECTORIO_DESTINO + \"\\\\\" + \"firma_destino\")\n",
    "        print(\"creando carpeta nueva\")\n",
    "        os.mkdir(DIRECTORIO_DESTINO + \"\\\\\" + \"firma_destino\")\n",
    "\n",
    "        print(\"Copiando...\")\n",
    "        copy_tree(DIRECTORIO_ORIGEN, DIRECTORIO_DESTINO + \"\\\\\" + \"firma_destino\")\n",
    "        print(\"Copiado\")\n",
    "\n",
    "\n",
    "    else:\n",
    "        print(\"creando carpeta nueva\")\n",
    "        os.mkdir(DIRECTORIO_DESTINO + \"\\\\\" +\"firma_destino\")\n",
    "        print(\"Copiando...\")\n",
    "        copy_tree(DIRECTORIO_ORIGEN, DIRECTORIO_DESTINO + \"\\\\\" + \"firma_destino\")\n",
    "        print(\"Copiado\")"
   ]
  },
  {
   "cell_type": "code",
   "execution_count": null,
   "id": "2e45a4b4",
   "metadata": {},
   "outputs": [],
   "source": [
    "if 'Firmas' in directorio_microsoft:\n",
    "    print('true')\n",
    "else:\n",
    "    print('false')"
   ]
  },
  {
   "cell_type": "code",
   "execution_count": null,
   "id": "1825f01d",
   "metadata": {},
   "outputs": [],
   "source": [
    "DIRECTORIO_ORIGEN = ruta_archivos_inicio + '\\\\' + usuario\n",
    "DIRECTORIO_ORIGEN"
   ]
  },
  {
   "cell_type": "code",
   "execution_count": null,
   "id": "2a6371da",
   "metadata": {},
   "outputs": [],
   "source": [
    "usuario = 'A144398'\n",
    "os.listdir(ruta_archivos_inicio + '\\\\' + usuario )"
   ]
  },
  {
   "cell_type": "code",
   "execution_count": null,
   "id": "16334e8a",
   "metadata": {},
   "outputs": [],
   "source": []
  },
  {
   "cell_type": "code",
   "execution_count": null,
   "id": "cc2023fb",
   "metadata": {},
   "outputs": [],
   "source": [
    "if usuario in os.listdir(ruta_archivos_inicio):\n",
    "    print(\"esta\")\n",
    "else:\n",
    "    print(\"no esta\")"
   ]
  },
  {
   "cell_type": "code",
   "execution_count": null,
   "id": "ef254177",
   "metadata": {},
   "outputs": [],
   "source": [
    "#import pandas as pd\n",
    "#  \n",
    "#fail = {'pc' : [],'users' : []} \n",
    "#  \n",
    "#usuarios_fail = pd.DataFrame(fail) \n",
    "#  \n",
    "#usuarios_fail \n"
   ]
  },
  {
   "cell_type": "code",
   "execution_count": null,
   "id": "1fedc02d",
   "metadata": {},
   "outputs": [],
   "source": [
    "#usuarios_fail = usuarios_fail.append({'pc' : 113 , 'users' : 113}, ignore_index=True)\n",
    "#usuarios_fail"
   ]
  },
  {
   "cell_type": "code",
   "execution_count": null,
   "id": "3ee47ffd",
   "metadata": {},
   "outputs": [],
   "source": [
    "#def prueba(a,b):\n",
    "#    return(a,b)\n",
    "#\n",
    "#t,j = prueba(1,2)\n",
    "#print(t)\n",
    "#print(j)"
   ]
  },
  {
   "cell_type": "code",
   "execution_count": null,
   "id": "531c9e53",
   "metadata": {},
   "outputs": [],
   "source": [
    "#hola = 'HOLA Pythonista'\n",
    "#hola_lower = hola.strip().lower().replace(\" \", \"\")"
   ]
  },
  {
   "cell_type": "code",
   "execution_count": null,
   "id": "9b44f5db",
   "metadata": {},
   "outputs": [],
   "source": [
    "#hola_lower"
   ]
  },
  {
   "cell_type": "code",
   "execution_count": null,
   "id": "e16af2e2",
   "metadata": {},
   "outputs": [],
   "source": [
    "DIRECTORIO_DESTINO = r'c:\\\\prueba_destino'\n",
    "os.mkdir(DIRECTORIO_DESTINO + \"\\\\\" +\"firma_destino\")\n"
   ]
  },
  {
   "cell_type": "code",
   "execution_count": null,
   "id": "e6558bcd",
   "metadata": {},
   "outputs": [],
   "source": [
    "shutil.rmtree(DIRECTORIO_DESTINO + \"\\\\\" +\"firma_destino\")"
   ]
  },
  {
   "cell_type": "code",
   "execution_count": null,
   "id": "cc3ccbb7",
   "metadata": {},
   "outputs": [],
   "source": [
    "\n",
    "\n",
    "DIRECTORIO_ORIGEN = r'c:\\\\prueba_origen\\\\firma_origen'\n",
    "DIRECTORIO_DESTINO = r'c:\\\\prueba_destino'\n",
    "\n",
    "\n",
    "if 'firma_destino' in os.listdir(r'c:\\\\prueba_destino\\\\'):\n",
    "    print(\"eliminando carpeta antigua\")\n",
    "    shutil.rmtree(DIRECTORIO_DESTINO + \"\\\\\" +\"firma_destino\")\n",
    "    print(\"creando carpeta nueva\")\n",
    "    os.mkdir(DIRECTORIO_DESTINO + \"\\\\\" + \"firma_destino\")\n",
    "    \n",
    "    print(\"Copiando...\")\n",
    "    copy_tree(DIRECTORIO_ORIGEN, DIRECTORIO_DESTINO + \"\\\\\" + \"firma_destino\")\n",
    "    print(\"Copiado\")\n",
    "    \n",
    "    \n",
    "else:\n",
    "    print(\"creando carpeta nueva\")\n",
    "    os.mkdir(DIRECTORIO_DESTINO + \"\\\\\" +\"firma_destino\")\n",
    "    print(\"Copiando...\")\n",
    "    copy_tree(DIRECTORIO_ORIGEN, DIRECTORIO_DESTINO + \"\\\\\" + \"firma_destino\")\n",
    "    print(\"Copiado\")"
   ]
  },
  {
   "cell_type": "code",
   "execution_count": null,
   "id": "cdfaf674",
   "metadata": {},
   "outputs": [],
   "source": []
  },
  {
   "cell_type": "code",
   "execution_count": null,
   "id": "8fa6f450",
   "metadata": {},
   "outputs": [],
   "source": [
    "from distutils.dir_util import copy_tree"
   ]
  },
  {
   "cell_type": "code",
   "execution_count": null,
   "id": "5b739f09",
   "metadata": {},
   "outputs": [],
   "source": [
    "os.chdir(r'c:\\\\pruebas2022')\n",
    "os.getcwd()\n",
    "\n",
    "origen = r'c:\\\\prueba_origen\\\\firma_origen'\n",
    "destino = r'c:\\\\prueba_destino\\\\firma_destino'\n",
    "\n",
    "\n",
    "shutil.copy(origen,destino)"
   ]
  },
  {
   "cell_type": "code",
   "execution_count": null,
   "id": "066b75dd",
   "metadata": {},
   "outputs": [],
   "source": []
  },
  {
   "cell_type": "code",
   "execution_count": null,
   "id": "6e15ab21",
   "metadata": {},
   "outputs": [],
   "source": [
    "path_desktop"
   ]
  },
  {
   "cell_type": "code",
   "execution_count": null,
   "id": "ba0870fb",
   "metadata": {},
   "outputs": [],
   "source": []
  },
  {
   "cell_type": "code",
   "execution_count": null,
   "id": "c16a3d6f",
   "metadata": {},
   "outputs": [],
   "source": []
  },
  {
   "cell_type": "code",
   "execution_count": null,
   "id": "6ab12fb6",
   "metadata": {},
   "outputs": [],
   "source": []
  },
  {
   "cell_type": "code",
   "execution_count": null,
   "id": "dbd3c48f",
   "metadata": {},
   "outputs": [],
   "source": []
  },
  {
   "cell_type": "code",
   "execution_count": null,
   "id": "881fc25f",
   "metadata": {},
   "outputs": [],
   "source": []
  },
  {
   "cell_type": "code",
   "execution_count": null,
   "id": "28f9675c",
   "metadata": {},
   "outputs": [],
   "source": []
  },
  {
   "cell_type": "code",
   "execution_count": null,
   "id": "ea1f7b81",
   "metadata": {},
   "outputs": [],
   "source": []
  },
  {
   "cell_type": "code",
   "execution_count": null,
   "id": "232c1306",
   "metadata": {},
   "outputs": [],
   "source": []
  },
  {
   "cell_type": "code",
   "execution_count": null,
   "id": "b5a4352b",
   "metadata": {},
   "outputs": [],
   "source": [
    "#usuario= 'a200057'\n",
    "#pc = 'pcs0346'\n",
    "#c = r'\\c$\\Users'\n",
    "#firma = '\\AppData\\Roaming\\Microsoft\\Signatures'\n",
    "#\n",
    "#os.chdir(r'\\\\' + pc + c + \"\\\\\" + usuario + firma)"
   ]
  },
  {
   "cell_type": "code",
   "execution_count": null,
   "id": "f6d002b0",
   "metadata": {},
   "outputs": [],
   "source": []
  },
  {
   "cell_type": "code",
   "execution_count": null,
   "id": "75bd6e56",
   "metadata": {},
   "outputs": [],
   "source": []
  },
  {
   "cell_type": "code",
   "execution_count": null,
   "id": "443aecac",
   "metadata": {},
   "outputs": [],
   "source": []
  },
  {
   "cell_type": "code",
   "execution_count": null,
   "id": "a25960d6",
   "metadata": {},
   "outputs": [],
   "source": [
    "#pc = 'pcs0346'\n",
    "#c = r'\\c$\\Users'\n",
    "#\n",
    "#os.chdir(r'\\\\' + pc + c)\n",
    "#os.getcwd()"
   ]
  },
  {
   "cell_type": "code",
   "execution_count": null,
   "id": "43bf592b",
   "metadata": {},
   "outputs": [],
   "source": [
    "#os.listdir()"
   ]
  },
  {
   "cell_type": "code",
   "execution_count": null,
   "id": "9e73c272",
   "metadata": {},
   "outputs": [],
   "source": [
    "#os.chdir(r'\\\\' + 'pcs0346' + r'\\c$\\Users' + \"\\\\\" + 'a200057' + '\\AppData\\Roaming\\Microsoft')\n",
    "#os.getcwd()\n",
    "#os.listdir()"
   ]
  },
  {
   "cell_type": "code",
   "execution_count": null,
   "id": "b482a4f1",
   "metadata": {},
   "outputs": [],
   "source": [
    "#print(os.getcwd())"
   ]
  },
  {
   "cell_type": "code",
   "execution_count": null,
   "id": "1a912667",
   "metadata": {},
   "outputs": [],
   "source": [
    "#prueba de usuario manual\n",
    "\n",
    "#pc = 'pcs0346'\n",
    "#c = r'\\c$\\Users'\n",
    "#usuario = '\\A144398'\n",
    "#firma = '\\AppData\\Roaming\\Microsoft\\Firmas'\n",
    "#\n",
    "#os.chdir(r'\\\\' + pc + c + usuario + firma)\n",
    "#os.getcwd()\n",
    "#os.listdir()"
   ]
  },
  {
   "cell_type": "code",
   "execution_count": null,
   "id": "dffb9769",
   "metadata": {},
   "outputs": [],
   "source": []
  },
  {
   "cell_type": "code",
   "execution_count": null,
   "id": "cebe547b",
   "metadata": {},
   "outputs": [],
   "source": [
    "#test_list = ['sapple', 'orange', 'smango', 'grape'] \n",
    "#  \n",
    "#start_letter = 's'\n",
    "#  \n",
    "#print(\"The original list : \" + str(test_list)) \n",
    "#  \n",
    "#with_s = [x for x in test_list if not x.startswith(start_letter)] \n",
    "#without_s = [x for x in test_list if x not in with_s] \n",
    "#  \n",
    "#print(\"The list without prefix s : \" + str(without_s)) \n",
    "#print(\"The list with prefix s : \" + str(with_s)) "
   ]
  },
  {
   "cell_type": "code",
   "execution_count": null,
   "id": "e3cf6a7b",
   "metadata": {},
   "outputs": [],
   "source": [
    "#usuarios = ['A202509','A144311','A130113','A132726','A134675','A130752','A130751','A135860','A127825','A202184','A202059','A129707','A201699','A202239','A202307','A138075','A200889','A202645','A130408','A133191','A129712','A130750','A142138','A119833','A201262','A150916','A144398','A200744','A200676','A140613','A200788','A129570','A201508','A132725','a202713','A202656','A200046','A134840']"
   ]
  },
  {
   "cell_type": "code",
   "execution_count": null,
   "id": "5a359afc",
   "metadata": {},
   "outputs": [],
   "source": [
    "#usuarios_pc = ['A202509','A144311','A130113','A132726','A134675','A130752','A130751','A135860','A127825','A202184','A202059','A129707','A201699','A202239','A202307','A138075','A200889','A202645','A130408','A133191','A129712','A130750','A142138','A119833','A201262','A150916','A144398','A200744','A200676','A140613','A200788','A129570','A201508','A132725','a202713','A202656','A200046','A134840']\n",
    "#pc = 'pcs0346'\n",
    "#c = r'\\c$\\Users'\n",
    "#\n",
    "#for usuario in usuarios_pc:\n",
    "#    try: \n",
    "#        firma = '\\AppData\\Roaming\\Microsoft'\n",
    "#        os.chdir(r'\\\\' + pc + c + \"\\\\\" + usuario + firma)\n",
    "#        directorio_microsoft = os.listdir()\n",
    "#\n",
    "#        try:\n",
    "#            if 'Firmas' in directorio_microsoft:\n",
    "#                firma = '\\AppData\\Roaming\\Microsoft\\Firmas'\n",
    "#                os.chdir(r'\\\\' + pc + c + \"\\\\\" + usuario + firma)\n",
    "#                print(color.BOLD + \"usuario: \" + usuario + color.END)\n",
    "#                print(os.getcwd())\n",
    "#            else:\n",
    "#                firma = '\\AppData\\Roaming\\Microsoft\\Signatures'\n",
    "#                os.chdir(r'\\\\' + pc + c + \"\\\\\" + usuario + firma)\n",
    "#                print(color.BOLD + \"usuario: \" + usuario + color.END)\n",
    "#                print(os.getcwd())\n",
    "#        except:\n",
    "#            print('\\n' + \"No se puede acceder al usuario \"+ color.BOLD + usuario + color.END)\n",
    "#    except:\n",
    "#        print('\\n' + \"No se puede acceder al usuario \"+ color.BOLD + usuario + color.END)"
   ]
  }
 ],
 "metadata": {
  "kernelspec": {
   "display_name": "Python 3 (ipykernel)",
   "language": "python",
   "name": "python3"
  },
  "language_info": {
   "codemirror_mode": {
    "name": "ipython",
    "version": 3
   },
   "file_extension": ".py",
   "mimetype": "text/x-python",
   "name": "python",
   "nbconvert_exporter": "python",
   "pygments_lexer": "ipython3",
   "version": "3.7.5"
  }
 },
 "nbformat": 4,
 "nbformat_minor": 5
}
