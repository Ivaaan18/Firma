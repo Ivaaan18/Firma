{
 "cells": [
  {
   "cell_type": "code",
   "execution_count": 1,
   "id": "3fc30404",
   "metadata": {},
   "outputs": [],
   "source": [
    "import os\n",
    "import pathlib\n",
    "import shutil\n",
    "from distutils.dir_util import copy_tree"
   ]
  },
  {
   "cell_type": "code",
   "execution_count": 2,
   "id": "ad05fa82",
   "metadata": {},
   "outputs": [],
   "source": [
    "def usuarios(Bibli = ['A130752','A130751','A202307','A138075','A200889','A202645','A130750','A144398','A140613','A200788','a202713','A202656','A200046']): \n",
    "    Biblio = []\n",
    "    for biblio in Bibli:\n",
    "        biblio = biblio.capitalize() \n",
    "        Biblio.append(biblio)\n",
    "    return(Biblio)"
   ]
  },
  {
   "cell_type": "code",
   "execution_count": 18,
   "id": "681af574",
   "metadata": {},
   "outputs": [],
   "source": [
    "class color:\n",
    "   PURPLE = '\\033[95m'\n",
    "   CYAN = '\\033[96m'\n",
    "   DARKCYAN = '\\033[36m'\n",
    "   BLUE = '\\033[94m'\n",
    "   GREEN = '\\033[92m'\n",
    "   YELLOW = '\\033[93m'\n",
    "   RED = '\\033[91m'\n",
    "   BOLD = '\\033[1m'\n",
    "   UNDERLINE = '\\033[4m'\n",
    "   END = '\\033[0m'\n",
    "\n",
    "def printear_usuarios(pc, c=r'\\c$\\Users'):\n",
    "    users=os.listdir(r'\\\\' + pc + c) \n",
    "    start_letter1 = ('a1')\n",
    "    start_letter2 = ('a2')\n",
    "    start_letter3 = ('A1')\n",
    "    start_letter4 = ('A2')\n",
    "    with_s1 = [x for x in users if x.startswith(start_letter1)] \n",
    "    with_s2 = [x for x in users if x.startswith(start_letter2)] \n",
    "    with_s3 = [x for x in users if x.startswith(start_letter3)] \n",
    "    with_s4 = [x for x in users if x.startswith(start_letter4)] \n",
    "    usuarios_pc = with_s1 + with_s2 + with_s3 + with_s4\n",
    "    return(usuarios_pc)\n",
    "\n",
    "\n",
    "def ejecucion_de_copia():\n",
    "    \n",
    "    ruta_aplicativo = pathlib.Path().absolute()\n",
    "    ruta_aplicativo = str(ruta_aplicativo)\n",
    "    DIRECTORIO_ORIGEN = ruta_aplicativo + '\\\\' + \"biblioteca\"      \n",
    "    \n",
    "    for pc in pcs:\n",
    "\n",
    "        try: \n",
    "\n",
    "            usuarios_pc = printear_usuarios(pc)\n",
    "            print(color.BOLD + pc + color.END)\n",
    "            print('\\n')\n",
    "\n",
    "        \n",
    "            for usuario in usuarios_pc: \n",
    "                \n",
    "                usuario = usuario.capitalize()   \n",
    "                DIRECTORIO_DESTINO = r'\\\\' + pc + r'\\c$\\Users' + \"\\\\\" + usuario + '\\AppData\\Roaming\\Microsoft' + \"\\\\\" + \"Signatures\"\n",
    "                \n",
    "                if usuario in Biblio:\n",
    "                    print(usuario)\n",
    "                    print(\"Copiando...del directorio: \" + DIRECTORIO_ORIGEN + ' al directorio: ' + DIRECTORIO_DESTINO)\n",
    "                    #copy_tree(DIRECTORIO_ORIGEN, DIRECTORIO_DESTINO + \"\\\\\" + \"Signatures\")\n",
    "                    print(\"Copiado\", \"\\n\")\n",
    "\n",
    "\n",
    "        except: \n",
    "            print('\\n' + \"No se puede acceder al pc \"+ color.BOLD + pc + color.END + \" está desconectado\")\n",
    "            "
   ]
  },
  {
   "cell_type": "code",
   "execution_count": 17,
   "id": "68005282",
   "metadata": {},
   "outputs": [
    {
     "name": "stdout",
     "output_type": "stream",
     "text": [
      "\u001b[1mpcs0346\u001b[0m\n",
      "\n",
      "\n",
      "A130752\n",
      "Copiando...del directorio: C:\\Users\\adm-a202781\\firma\\biblioteca al directorio: \\\\pcs0346\\c$\\Users\\A130752\\AppData\\Roaming\\Microsoft\\Signatures\n",
      "Copiado \n",
      "\n"
     ]
    }
   ],
   "source": [
    "pcs = ['pcs0346']\n",
    "\n",
    "#Escribiremos los usuarios que queremos que se le copien los mismos archivos, los valores tienen que estar en una lista\n",
    "Biblio=usuarios(['A130752','A130751'])\n",
    "\n",
    "ejecucion_de_copia()"
   ]
  },
  {
   "cell_type": "code",
   "execution_count": 21,
   "id": "d654c3b0",
   "metadata": {},
   "outputs": [
    {
     "data": {
      "text/plain": [
       "['a130750',\n",
       " 'a144398',\n",
       " 'a200057',\n",
       " 'a200777',\n",
       " 'a200799',\n",
       " 'a200801',\n",
       " 'a200856',\n",
       " 'a200889',\n",
       " 'a201251',\n",
       " 'a202004',\n",
       " 'a202094',\n",
       " 'a202195',\n",
       " 'a202228',\n",
       " 'a202252',\n",
       " 'a202713',\n",
       " 'A130752',\n",
       " 'A138075',\n",
       " 'A200046',\n",
       " 'A200722',\n",
       " 'A200788',\n",
       " 'A200812',\n",
       " 'A200891',\n",
       " 'A200913',\n",
       " 'A201791',\n",
       " 'A201993',\n",
       " 'A202138',\n",
       " 'A202149',\n",
       " 'A202274',\n",
       " 'A202307',\n",
       " 'A202645',\n",
       " 'A202656',\n",
       " 'A202836']"
      ]
     },
     "execution_count": 21,
     "metadata": {},
     "output_type": "execute_result"
    }
   ],
   "source": [
    "pc = 'pcs0346'\n",
    "\n",
    "usuarios_pc = printear_usuarios(pc)\n",
    "                    \n",
    "usuarios_pc"
   ]
  },
  {
   "cell_type": "code",
   "execution_count": null,
   "id": "657323a6",
   "metadata": {},
   "outputs": [],
   "source": []
  }
 ],
 "metadata": {
  "kernelspec": {
   "display_name": "Python 3 (ipykernel)",
   "language": "python",
   "name": "python3"
  },
  "language_info": {
   "codemirror_mode": {
    "name": "ipython",
    "version": 3
   },
   "file_extension": ".py",
   "mimetype": "text/x-python",
   "name": "python",
   "nbconvert_exporter": "python",
   "pygments_lexer": "ipython3",
   "version": "3.7.5"
  }
 },
 "nbformat": 4,
 "nbformat_minor": 5
}
